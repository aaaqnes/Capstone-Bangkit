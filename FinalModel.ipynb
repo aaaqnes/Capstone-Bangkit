{
 "cells": [
  {
   "cell_type": "code",
   "execution_count": null,
   "id": "5c33baf7",
   "metadata": {},
   "outputs": [],
   "source": [
    "import pandas as pd\n",
    "import numpy as np\n",
    "import tensorflow as tf\n",
    "import requests\n",
    "from sklearn.preprocessing import LabelEncoder\n",
    "from sklearn.model_selection import train_test_split"
   ]
  },
  {
   "cell_type": "markdown",
   "id": "b8bf47be",
   "metadata": {},
   "source": [
    "# Data Preprocessing"
   ]
  },
  {
   "cell_type": "code",
   "execution_count": null,
   "id": "15b4832a",
   "metadata": {},
   "outputs": [],
   "source": [
    "data = pd.read_csv(\"databaru.csv\")"
   ]
  },
  {
   "cell_type": "code",
   "execution_count": null,
   "id": "271154a5-828a-458e-ba0c-68c7d7604d8f",
   "metadata": {},
   "outputs": [],
   "source": [
    "data"
   ]
  },
  {
   "cell_type": "code",
   "execution_count": null,
   "id": "1cd8c99d",
   "metadata": {},
   "outputs": [],
   "source": [
    "data['Weather'] = data['Weather'].str.strip()"
   ]
  },
  {
   "cell_type": "code",
   "execution_count": null,
   "id": "60c9a0e3",
   "metadata": {},
   "outputs": [],
   "source": [
    "weather_mapping = {'Sunny': 0, 'Rain': 1}\n",
    "data['Weather'] = data['Weather'].map(weather_mapping)"
   ]
  },
  {
   "cell_type": "code",
   "execution_count": null,
   "id": "a18ff092",
   "metadata": {},
   "outputs": [],
   "source": [
    "print(data['Weather'])"
   ]
  },
  {
   "cell_type": "code",
   "execution_count": null,
   "id": "d951cdcb",
   "metadata": {},
   "outputs": [],
   "source": [
    "print(data['City_1'].unique())"
   ]
  },
  {
   "cell_type": "code",
   "execution_count": null,
   "id": "0f298f0e",
   "metadata": {},
   "outputs": [],
   "source": [
    "label_encoder = LabelEncoder()\n",
    "data['City_1'] = label_encoder.fit_transform(data['City_1'])"
   ]
  },
  {
   "cell_type": "code",
   "execution_count": null,
   "id": "6aecb3c9",
   "metadata": {},
   "outputs": [],
   "source": [
    "X = data[['Weather', 'City_1']].values\n",
    "y = data['Place_Name'].values"
   ]
  },
  {
   "cell_type": "markdown",
   "id": "8c5acbc7",
   "metadata": {},
   "source": [
    "# Weather & User Data Retrieval"
   ]
  },
  {
   "cell_type": "code",
   "execution_count": null,
   "id": "b0dc8603",
   "metadata": {},
   "outputs": [],
   "source": [
    "city_coordinates = {\n",
    "    \"Jakarta Pusat\": {\"lat\": -6.186486, \"lon\": 106.834091},\n",
    "    \"Jakarta Barat\": {\"lat\": -6.135200, \"lon\": 106.813301},\n",
    "    \"Jakarta Timur\": {\"lat\": -6.230702, \"lon\": 106.882744},\n",
    "    \"Jakarta Selatan\": {\"lat\": -6.300641, \"lon\": 106.814095}\n",
    "}"
   ]
  },
  {
   "cell_type": "code",
   "execution_count": null,
   "id": "c2de2a05",
   "metadata": {},
   "outputs": [],
   "source": [
    "user_city = input(\"Enter your city: \")\n",
    "if user_city not in city_coordinates:\n",
    "    print(\"Invalid city input!\")\n",
    "    exit()"
   ]
  },
  {
   "cell_type": "code",
   "execution_count": null,
   "id": "f2e68e14",
   "metadata": {},
   "outputs": [],
   "source": [
    "user_lat = city_coordinates[user_city][\"lat\"]\n",
    "user_lon = city_coordinates[user_city][\"lon\"]"
   ]
  },
  {
   "cell_type": "code",
   "execution_count": null,
   "id": "639955a3",
   "metadata": {},
   "outputs": [],
   "source": [
    "print(user_lat)\n",
    "print(user_lon)"
   ]
  },
  {
   "cell_type": "code",
   "execution_count": null,
   "id": "5a6e46fa",
   "metadata": {},
   "outputs": [],
   "source": [
    "api_key = \"6efe5d86568540c60dfc5ba4a75a7bbe\"\n",
    "api_url = f\"http://api.openweathermap.org/data/2.5/weather?lat={user_lat}&lon={user_lon}&appid={api_key}\"\n",
    "response = requests.get(api_url)\n",
    "print(response)"
   ]
  },
  {
   "cell_type": "code",
   "execution_count": null,
   "id": "89ca77a5",
   "metadata": {},
   "outputs": [],
   "source": [
    "weather_description = response.json()[\"weather\"][0][\"main\"].lower()"
   ]
  },
  {
   "cell_type": "code",
   "execution_count": null,
   "id": "8354fb07",
   "metadata": {},
   "outputs": [],
   "source": [
    "weather_mapping = {'clear': 'sunny', 'clouds': 'sunny', 'haze': 'sunny', 'rain': 'rain', 'drizzle': 'rain', 'thunderstorm': 'rain', 'squall': 'rain'}\n",
    "user_weather = weather_mapping.get(weather_description, 'unknown')"
   ]
  },
  {
   "cell_type": "code",
   "execution_count": null,
   "id": "0f8d23d5",
   "metadata": {},
   "outputs": [],
   "source": [
    "print(f\"User City: {user_city}\")\n",
    "print(f\"Weather Description: {weather_description}\")\n",
    "print(f\"Mapped Weather: {user_weather}\")"
   ]
  },
  {
   "cell_type": "markdown",
   "id": "5fdd0e98",
   "metadata": {},
   "source": [
    "# Model Training"
   ]
  },
  {
   "cell_type": "code",
   "execution_count": null,
   "id": "2ad37614",
   "metadata": {},
   "outputs": [],
   "source": [
    "weather_categories = ['sunny', 'rain']"
   ]
  },
  {
   "cell_type": "code",
   "execution_count": null,
   "id": "282758f6",
   "metadata": {},
   "outputs": [],
   "source": [
    "user_weather_encoded = [int(user_weather.lower() == category) for category in weather_categories]"
   ]
  },
  {
   "cell_type": "code",
   "execution_count": null,
   "id": "1b0a48af",
   "metadata": {},
   "outputs": [],
   "source": [
    "print(user_weather_encoded)"
   ]
  },
  {
   "cell_type": "code",
   "execution_count": null,
   "id": "294ad67b",
   "metadata": {},
   "outputs": [],
   "source": [
    "user_weather_encoded = np.array([[user_weather_encoded]])"
   ]
  },
  {
   "cell_type": "code",
   "execution_count": null,
   "id": "d440b14e",
   "metadata": {},
   "outputs": [],
   "source": [
    "#filter citynya"
   ]
  },
  {
   "cell_type": "code",
   "execution_count": null,
   "id": "40601497",
   "metadata": {},
   "outputs": [],
   "source": [
    "city_filter = data['City_1'] == label_encoder.transform([user_city])[0]"
   ]
  },
  {
   "cell_type": "code",
   "execution_count": null,
   "id": "e6798963",
   "metadata": {},
   "outputs": [],
   "source": [
    "filtered_X = X[city_filter]\n",
    "filtered_y = y[city_filter]"
   ]
  },
  {
   "cell_type": "code",
   "execution_count": null,
   "id": "ac0abf5b",
   "metadata": {},
   "outputs": [],
   "source": [
    "filtered_label_encoder = LabelEncoder()"
   ]
  },
  {
   "cell_type": "code",
   "execution_count": null,
   "id": "2fd1cfb1",
   "metadata": {},
   "outputs": [],
   "source": [
    "filtered_y_encoded = filtered_label_encoder.fit_transform(filtered_y)"
   ]
  },
  {
   "cell_type": "code",
   "execution_count": null,
   "id": "806e4bc7",
   "metadata": {},
   "outputs": [],
   "source": [
    "print(filtered_y_encoded)"
   ]
  },
  {
   "cell_type": "code",
   "execution_count": null,
   "id": "9b79f160",
   "metadata": {},
   "outputs": [],
   "source": [
    "X_train, X_test, y_train_encoded, y_test_encoded = train_test_split(filtered_X, filtered_y_encoded, test_size=0.2, random_state=42)"
   ]
  },
  {
   "cell_type": "code",
   "execution_count": null,
   "id": "5658b227",
   "metadata": {},
   "outputs": [],
   "source": [
    "num_classes = len(np.unique(y_train_encoded))"
   ]
  },
  {
   "cell_type": "code",
   "execution_count": null,
   "id": "87eddb08",
   "metadata": {},
   "outputs": [],
   "source": [
    "feature_dim = X_train.shape[1]"
   ]
  },
  {
   "cell_type": "code",
   "execution_count": null,
   "id": "b186f23a",
   "metadata": {},
   "outputs": [],
   "source": [
    "unique_labels = np.unique(y_train_encoded)"
   ]
  },
  {
   "cell_type": "code",
   "execution_count": null,
   "id": "898eb2bd",
   "metadata": {},
   "outputs": [],
   "source": [
    "valid_indices = np.where(unique_labels < num_classes)[0]"
   ]
  },
  {
   "cell_type": "code",
   "execution_count": null,
   "id": "b73fde88",
   "metadata": {},
   "outputs": [],
   "source": [
    "valid_labels = unique_labels[valid_indices]"
   ]
  },
  {
   "cell_type": "code",
   "execution_count": null,
   "id": "cba6ebb0",
   "metadata": {},
   "outputs": [],
   "source": [
    "valid_indices_mask = np.isin(y_train_encoded, valid_labels)"
   ]
  },
  {
   "cell_type": "code",
   "execution_count": null,
   "id": "9094a9e3",
   "metadata": {},
   "outputs": [],
   "source": [
    "X_train_valid = X_train[valid_indices_mask]\n",
    "y_train_valid = y_train_encoded[valid_indices_mask]"
   ]
  },
  {
   "cell_type": "code",
   "execution_count": null,
   "id": "1f6f0381",
   "metadata": {},
   "outputs": [],
   "source": [
    "model = tf.keras.Sequential([\n",
    "    tf.keras.layers.Input(shape=(feature_dim,)),\n",
    "    tf.keras.layers.Dense(128, activation='relu', kernel_regularizer=tf.keras.regularizers.l2(0.01)),\n",
    "    tf.keras.layers.Dense(64, activation='relu', kernel_regularizer=tf.keras.regularizers.l2(0.01)),\n",
    "    tf.keras.layers.Dense(num_classes, activation='softmax')\n",
    "])\n"
   ]
  },
  {
   "cell_type": "code",
   "execution_count": null,
   "id": "6a861a14",
   "metadata": {},
   "outputs": [],
   "source": [
    "model.compile(optimizer='adam', loss='sparse_categorical_crossentropy', metrics=['accuracy'])"
   ]
  },
  {
   "cell_type": "code",
   "execution_count": null,
   "id": "d2fece06",
   "metadata": {},
   "outputs": [],
   "source": [
    "model.fit(X_train_valid, y_train_valid, epochs=10)"
   ]
  },
  {
   "cell_type": "code",
   "execution_count": null,
   "id": "589d699c",
   "metadata": {},
   "outputs": [],
   "source": []
  },
  {
   "cell_type": "markdown",
   "id": "42be3705",
   "metadata": {},
   "source": [
    "# Recommendation"
   ]
  },
  {
   "cell_type": "code",
   "execution_count": null,
   "id": "f99f216a",
   "metadata": {},
   "outputs": [],
   "source": [
    "user_weather_encoded = np.reshape(user_weather_encoded, (1, -1))"
   ]
  },
  {
   "cell_type": "code",
   "execution_count": null,
   "id": "4d18d466",
   "metadata": {},
   "outputs": [],
   "source": [
    "predicted_probabilities = model.predict(user_weather_encoded)"
   ]
  },
  {
   "cell_type": "code",
   "execution_count": null,
   "id": "3b42e85b",
   "metadata": {},
   "outputs": [],
   "source": [
    "top_5_indices = np.argsort(predicted_probabilities[0])[-5:][::-1]"
   ]
  },
  {
   "cell_type": "code",
   "execution_count": null,
   "id": "c2db3e1b",
   "metadata": {},
   "outputs": [],
   "source": [
    "recommended_attractions = filtered_label_encoder.inverse_transform(top_5_indices)\n",
    "print(f\"\\nRecommended attractions for {user_city} with {weather_description}:\")\n",
    "for attraction in recommended_attractions:\n",
    "    print(attraction)"
   ]
  },
  {
   "cell_type": "markdown",
   "id": "23842a26",
   "metadata": {},
   "source": [
    "# Sa"
   ]
  },
  {
   "cell_type": "code",
   "execution_count": null,
   "id": "a03fa6bc-2b42-4224-a0bb-278b76cdc089",
   "metadata": {},
   "outputs": [],
   "source": [
    "import tensorflow as tf\n",
    "\n",
    "# Load the model from the .h5 file\n",
    "model = tf.keras.models.load_model(\"C:/Users/DAffa/Documents/model.h5\")\n",
    "\n",
    "# Convert the model to JSON format\n",
    "model_json = model.to_json()\n",
    "\n",
    "# Save the model in JSON format\n",
    "with open(\"C:/Users/DAffa/Documents/model.json\", \"w\") as json_file:\n",
    "    json_file.write(model_json)\n",
    "\n",
    "print(\"Model saved in JSON format.\")\n"
   ]
  }
 ],
 "metadata": {
  "kernelspec": {
   "display_name": "Python 3 (ipykernel)",
   "language": "python",
   "name": "python3"
  },
  "language_info": {
   "codemirror_mode": {
    "name": "ipython",
    "version": 3
   },
   "file_extension": ".py",
   "mimetype": "text/x-python",
   "name": "python",
   "nbconvert_exporter": "python",
   "pygments_lexer": "ipython3",
   "version": "3.11.3"
  }
 },
 "nbformat": 4,
 "nbformat_minor": 5
}
